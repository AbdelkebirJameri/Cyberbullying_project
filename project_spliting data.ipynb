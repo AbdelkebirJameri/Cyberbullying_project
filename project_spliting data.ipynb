{
 "cells": [
  {
   "cell_type": "markdown",
   "id": "7a4ff28c",
   "metadata": {},
   "source": [
    "# importing libraries"
   ]
  },
  {
   "cell_type": "code",
   "execution_count": 1,
   "id": "c2746192",
   "metadata": {},
   "outputs": [],
   "source": [
    "import re, json, os, itertools\n",
    "import numpy as np\n",
    "import pandas as pd\n",
    "from tqdm import tqdm\n",
    "\n",
    "import matplotlib.pyplot as plt\n",
    "import seaborn as sns\n",
    "\n",
    "import spacy\n",
    "from spacy.lang.en import English\n",
    "from spacy.training import offsets_to_biluo_tags # requires spaCy 3.0"
   ]
  },
  {
   "cell_type": "markdown",
   "id": "f3483325",
   "metadata": {},
   "source": [
    "### 1. File handling"
   ]
  },
  {
   "cell_type": "code",
   "execution_count": 17,
   "id": "dbe51a5f",
   "metadata": {},
   "outputs": [],
   "source": [
    "### paths\n",
    "JSONL_FILE = 'dataproject.jsonl'\n",
    "FEATURE_CLASS_LABELS = \"feature_class_labels.json\"\n",
    "DATA_FILE = 'v1-annotated.json'"
   ]
  },
  {
   "cell_type": "markdown",
   "id": "010ddf1f",
   "metadata": {},
   "source": [
    "### 2. Text Data Preprocessing "
   ]
  },
  {
   "cell_type": "markdown",
   "id": "c9133da8",
   "metadata": {},
   "source": [
    "### Prepare updated dataset for  Transformers with HuggingFace"
   ]
  },
  {
   "cell_type": "code",
   "execution_count": 3,
   "id": "8e198bcc",
   "metadata": {},
   "outputs": [
    {
     "data": {
      "text/html": [
       "<div>\n",
       "<style scoped>\n",
       "    .dataframe tbody tr th:only-of-type {\n",
       "        vertical-align: middle;\n",
       "    }\n",
       "\n",
       "    .dataframe tbody tr th {\n",
       "        vertical-align: top;\n",
       "    }\n",
       "\n",
       "    .dataframe thead th {\n",
       "        text-align: right;\n",
       "    }\n",
       "</style>\n",
       "<table border=\"1\" class=\"dataframe\">\n",
       "  <thead>\n",
       "    <tr style=\"text-align: right;\">\n",
       "      <th></th>\n",
       "      <th>id</th>\n",
       "      <th>text</th>\n",
       "      <th>labels</th>\n",
       "    </tr>\n",
       "  </thead>\n",
       "  <tbody>\n",
       "    <tr>\n",
       "      <th>0</th>\n",
       "      <td>4</td>\n",
       "      <td>\"Sudeep, did she invite him though? No right? ...</td>\n",
       "      <td>[[155, 161, Insult]]</td>\n",
       "    </tr>\n",
       "    <tr>\n",
       "      <th>1</th>\n",
       "      <td>5</td>\n",
       "      <td>@discerningmumin Islam has never been a resist...</td>\n",
       "      <td>[]</td>\n",
       "    </tr>\n",
       "    <tr>\n",
       "      <th>2</th>\n",
       "      <td>6</td>\n",
       "      <td>\"Boy, your comment about Journalists wanting t...</td>\n",
       "      <td>[[206, 219, Harassment]]</td>\n",
       "    </tr>\n",
       "    <tr>\n",
       "      <th>3</th>\n",
       "      <td>7</td>\n",
       "      <td>@ShashiTharoor @INCIndia Hindus were and are g...</td>\n",
       "      <td>[[63, 82, Harassment], [215, 221, Insult]]</td>\n",
       "    </tr>\n",
       "    <tr>\n",
       "      <th>4</th>\n",
       "      <td>8</td>\n",
       "      <td>\"White supremicists? How many do you know? The...</td>\n",
       "      <td>[[55, 61, Insult]]</td>\n",
       "    </tr>\n",
       "  </tbody>\n",
       "</table>\n",
       "</div>"
      ],
      "text/plain": [
       "   id                                               text  \\\n",
       "0   4  \"Sudeep, did she invite him though? No right? ...   \n",
       "1   5  @discerningmumin Islam has never been a resist...   \n",
       "2   6  \"Boy, your comment about Journalists wanting t...   \n",
       "3   7  @ShashiTharoor @INCIndia Hindus were and are g...   \n",
       "4   8  \"White supremicists? How many do you know? The...   \n",
       "\n",
       "                                       labels  \n",
       "0                        [[155, 161, Insult]]  \n",
       "1                                          []  \n",
       "2                    [[206, 219, Harassment]]  \n",
       "3  [[63, 82, Harassment], [215, 221, Insult]]  \n",
       "4                          [[55, 61, Insult]]  "
      ]
     },
     "execution_count": 3,
     "metadata": {},
     "output_type": "execute_result"
    }
   ],
   "source": [
    "df = pd.read_json (JSONL_FILE, lines=True)\n",
    "df = df.drop(['meta', 'annotation_approver', 'comments'], axis=1)\n",
    "df.head()"
   ]
  },
  {
   "cell_type": "code",
   "execution_count": 4,
   "id": "6b1f8f8a",
   "metadata": {},
   "outputs": [
    {
     "name": "stdout",
     "output_type": "stream",
     "text": [
      "<class 'pandas.core.frame.DataFrame'>\n",
      "RangeIndex: 80 entries, 0 to 79\n",
      "Data columns (total 3 columns):\n",
      " #   Column  Non-Null Count  Dtype \n",
      "---  ------  --------------  ----- \n",
      " 0   id      80 non-null     int64 \n",
      " 1   text    80 non-null     object\n",
      " 2   labels  80 non-null     object\n",
      "dtypes: int64(1), object(2)\n",
      "memory usage: 2.0+ KB\n"
     ]
    }
   ],
   "source": [
    "df.info()"
   ]
  },
  {
   "cell_type": "code",
   "execution_count": 5,
   "id": "669abb8c",
   "metadata": {},
   "outputs": [
    {
     "name": "stdout",
     "output_type": "stream",
     "text": [
      "<class 'pandas.core.frame.DataFrame'>\n",
      "Int64Index: 48 entries, 0 to 74\n",
      "Data columns (total 3 columns):\n",
      " #   Column  Non-Null Count  Dtype \n",
      "---  ------  --------------  ----- \n",
      " 0   id      48 non-null     int64 \n",
      " 1   text    48 non-null     object\n",
      " 2   labels  48 non-null     object\n",
      "dtypes: int64(1), object(2)\n",
      "memory usage: 1.5+ KB\n"
     ]
    }
   ],
   "source": [
    "# delet any any rows  which  not annotated.\n",
    "df_cut = df[df['labels'].map(lambda d: len(d)) > 0].copy()\n",
    "df_cut.info()"
   ]
  },
  {
   "cell_type": "code",
   "execution_count": 6,
   "id": "411aadff",
   "metadata": {},
   "outputs": [
    {
     "data": {
      "text/html": [
       "<div>\n",
       "<style scoped>\n",
       "    .dataframe tbody tr th:only-of-type {\n",
       "        vertical-align: middle;\n",
       "    }\n",
       "\n",
       "    .dataframe tbody tr th {\n",
       "        vertical-align: top;\n",
       "    }\n",
       "\n",
       "    .dataframe thead th {\n",
       "        text-align: right;\n",
       "    }\n",
       "</style>\n",
       "<table border=\"1\" class=\"dataframe\">\n",
       "  <thead>\n",
       "    <tr style=\"text-align: right;\">\n",
       "      <th></th>\n",
       "      <th>id</th>\n",
       "      <th>text</th>\n",
       "      <th>labels</th>\n",
       "      <th>tokens</th>\n",
       "    </tr>\n",
       "  </thead>\n",
       "  <tbody>\n",
       "    <tr>\n",
       "      <th>0</th>\n",
       "      <td>4</td>\n",
       "      <td>\"Sudeep, did she invite him though? No right? ...</td>\n",
       "      <td>[[155, 161, Insult]]</td>\n",
       "      <td>(\", Sudeep, ,, did, she, invite, him, though, ...</td>\n",
       "    </tr>\n",
       "    <tr>\n",
       "      <th>2</th>\n",
       "      <td>6</td>\n",
       "      <td>\"Boy, your comment about Journalists wanting t...</td>\n",
       "      <td>[[206, 219, Harassment]]</td>\n",
       "      <td>(\", Boy, ,, your, comment, about, Journalists,...</td>\n",
       "    </tr>\n",
       "    <tr>\n",
       "      <th>3</th>\n",
       "      <td>7</td>\n",
       "      <td>@ShashiTharoor @INCIndia Hindus were and are g...</td>\n",
       "      <td>[[63, 82, Harassment], [215, 221, Insult]]</td>\n",
       "      <td>(@ShashiTharoor, @INCIndia, Hindus, were, and,...</td>\n",
       "    </tr>\n",
       "    <tr>\n",
       "      <th>4</th>\n",
       "      <td>8</td>\n",
       "      <td>\"White supremicists? How many do you know? The...</td>\n",
       "      <td>[[55, 61, Insult]]</td>\n",
       "      <td>(\", White, supremicists, ?, How, many, do, you...</td>\n",
       "    </tr>\n",
       "    <tr>\n",
       "      <th>5</th>\n",
       "      <td>9</td>\n",
       "      <td>Urban naxal and a jihadi TT gang put together....</td>\n",
       "      <td>[[196, 217, Harassment], [149, 162, Harassment]]</td>\n",
       "      <td>(Urban, naxal, and, a, jihadi, TT, gang, put, ...</td>\n",
       "    </tr>\n",
       "  </tbody>\n",
       "</table>\n",
       "</div>"
      ],
      "text/plain": [
       "   id                                               text  \\\n",
       "0   4  \"Sudeep, did she invite him though? No right? ...   \n",
       "2   6  \"Boy, your comment about Journalists wanting t...   \n",
       "3   7  @ShashiTharoor @INCIndia Hindus were and are g...   \n",
       "4   8  \"White supremicists? How many do you know? The...   \n",
       "5   9  Urban naxal and a jihadi TT gang put together....   \n",
       "\n",
       "                                             labels  \\\n",
       "0                              [[155, 161, Insult]]   \n",
       "2                          [[206, 219, Harassment]]   \n",
       "3        [[63, 82, Harassment], [215, 221, Insult]]   \n",
       "4                                [[55, 61, Insult]]   \n",
       "5  [[196, 217, Harassment], [149, 162, Harassment]]   \n",
       "\n",
       "                                              tokens  \n",
       "0  (\", Sudeep, ,, did, she, invite, him, though, ...  \n",
       "2  (\", Boy, ,, your, comment, about, Journalists,...  \n",
       "3  (@ShashiTharoor, @INCIndia, Hindus, were, and,...  \n",
       "4  (\", White, supremicists, ?, How, many, do, you...  \n",
       "5  (Urban, naxal, and, a, jihadi, TT, gang, put, ...  "
      ]
     },
     "execution_count": 6,
     "metadata": {},
     "output_type": "execute_result"
    }
   ],
   "source": [
    "# tokenize each agreement prior to put it  into the transformer model\n",
    "# Create tokens format by using spaCy\n",
    "nlp = English()\n",
    "df_cut['tokens'] = df_cut['text'].apply(lambda x: nlp(x))\n",
    "df_cut.head()"
   ]
  },
  {
   "cell_type": "code",
   "execution_count": 7,
   "id": "3415d4d6",
   "metadata": {},
   "outputs": [
    {
     "name": "stdout",
     "output_type": "stream",
     "text": [
      "196 217 Harassment\n",
      "149 162 Harassment\n",
      "\n",
      "\n",
      "Urban naxal and a jihadi TT gang put together..wen more than 95% ot the population are happy to be united as one nation inspite of their diversity...who the F are u to preach otherwise..ur just a petty muslim activist...or should i say ground operative for Islamic Terrorism\n"
     ]
    }
   ],
   "source": [
    "# Checking one  example of the text indices and labels \"\"\"\"\"\"\"\"\"\"\n",
    "row = df_cut.iloc[4]\n",
    "doc = row['tokens']\n",
    "for start, end, label in row['labels']:\n",
    "    print(start, end, label)\n",
    "print(\"\\n\")\n",
    "print(doc)"
   ]
  },
  {
   "cell_type": "code",
   "execution_count": 21,
   "id": "08439a59",
   "metadata": {},
   "outputs": [
    {
     "name": "stderr",
     "output_type": "stream",
     "text": [
      "C:\\Users\\ce pc\\AppData\\Local\\Programs\\Python\\Python310\\lib\\site-packages\\seaborn\\categorical.py:470: FutureWarning: iteritems is deprecated and will be removed in a future version. Use .items instead.\n",
      "  plot_data = [np.asarray(s, float) for k, s in iter_data]\n"
     ]
    },
    {
     "name": "stdout",
     "output_type": "stream",
     "text": [
      "The total number of labels in the dataset is: 102\n"
     ]
    },
    {
     "data": {
      "image/png": "[encoded data removed]",
      "text/plain": [
       "<Figure size 640x480 with 1 Axes>"
      ]
     },
     "metadata": {},
     "output_type": "display_data"
    }
   ],
   "source": [
    "# Count and visualise some  labels\n",
    "insult_num = 0\n",
    "harassement_num = 0\n",
    "racism_num = 0\n",
    "for index, row in df_cut.iterrows():\n",
    "    for l in row['labels']:\n",
    "        if l[2] == \"Insult\":\n",
    "            insult_num += 1\n",
    "        if l[2] == \"Harassment\":\n",
    "            harassement_num += 1\n",
    "        if l[2] == \"Racism\":\n",
    "            racism_num += 1\n",
    "\n",
    "# Create DataFrame for chaque plot\n",
    "data=pd.DataFrame.from_dict({\"Insult\":[insult_num],\n",
    "                             \"harassement\":[harassement_num],\n",
    "                             \"Racism\":[racism_num]})\n",
    "\n",
    "# using sea born\n",
    "splot = sns.barplot(palette=\"pastel\", data=data)\n",
    "splot.set(title='Number of labels in dataset', ylabel='Count')\n",
    "\n",
    "# bars lables \n",
    "for p in splot.patches:\n",
    "    splot.annotate(format(p.get_height(), '.0f'), \n",
    "                   (p.get_x() + p.get_width() / 2.,p.get_height()), \n",
    "                   ha = 'center', va = 'center', \n",
    "                   size=10,\n",
    "                   xytext = (0, -12), \n",
    "                   textcoords = 'offset points')\n",
    "\n",
    "plt.show\n",
    "\n",
    "print(\"The total number of labels in the dataset is:\", insult_num+harassement_num+racism_num)"
   ]
  },
  {
   "cell_type": "code",
   "execution_count": 11,
   "id": "cbd9c9d0",
   "metadata": {},
   "outputs": [
    {
     "data": {
      "text/plain": [
       "()"
      ]
     },
     "execution_count": 11,
     "metadata": {},
     "output_type": "execute_result"
    }
   ],
   "source": [
    "# how the entity labels match up with the tokens\n",
    "ents=[]\n",
    "\n",
    "for start, end, label in row['labels']:\n",
    "    if doc.char_span(start, end, label) != None:\n",
    "        ent = doc.char_span(start, end, label)\n",
    "        ents.append(ent)\n",
    "    elif doc.char_span(start, end+1, label) != None:\n",
    "        ent = doc.char_span(start, end+1, label)\n",
    "        ents.append(ent)\n",
    "    elif doc.char_span(start+1, end, label) != None:\n",
    "        ent = doc.char_span(start+1, end, label)\n",
    "        ents.append(ent)\n",
    "    elif doc.char_span(start, end-1, label) != None:\n",
    "        ent = doc.char_span(start, end-1, label)\n",
    "        ents.append(ent)\n",
    "doc.ents = ents\n",
    "doc.ents"
   ]
  },
  {
   "cell_type": "code",
   "execution_count": 12,
   "id": "36070efb",
   "metadata": {},
   "outputs": [],
   "source": [
    "# Each word should be seperated applying the IOB format\n",
    "# Create tags using token.ent_iob_ and add to the DataFrame\n",
    "# Allow for any character misalignment between spaCy tokenization and Doccano character indices\n",
    "tags_list_iob = []\n",
    "for index, row in df_cut.iterrows():\n",
    "    doc = row['tokens']\n",
    "    ents=[]\n",
    "    for start, end, label in row['labels']:\n",
    "        if doc.char_span(start, end, label) != None:\n",
    "            ent = doc.char_span(start, end, label)\n",
    "            ents.append(ent)\n",
    "        elif doc.char_span(start, end+1, label) != None:\n",
    "            ent = doc.char_span(start, end+1, label)\n",
    "            ents.append(ent)\n",
    "        elif doc.char_span(start+1, end, label) != None:\n",
    "            ent = doc.char_span(start+1, end, label)\n",
    "            ents.append(ent)\n",
    "        elif doc.char_span(start, end-1, label) != None:\n",
    "            ent = doc.char_span(start, end-1, label)\n",
    "            ents.append(ent)\n",
    "        elif doc.char_span(start-1, end, label) != None:\n",
    "            ent = doc.char_span(start-1, end, label)\n",
    "            ents.append(ent)\n",
    "    doc.ents = ents\n",
    "    iob_tags = [f\"{t.ent_iob_}-{t.ent_type_}\" if t.ent_iob_ != \"O\" else \"O\" for t in doc]\n",
    "    tags_list_iob.append(iob_tags)\n",
    "df_cut['tags'] = tags_list_iob"
   ]
  },
  {
   "cell_type": "code",
   "execution_count": 13,
   "id": "24b14203",
   "metadata": {},
   "outputs": [
    {
     "name": "stdout",
     "output_type": "stream",
     "text": [
      "<class 'pandas.core.frame.DataFrame'>\n",
      "Int64Index: 48 entries, 0 to 74\n",
      "Data columns (total 5 columns):\n",
      " #   Column  Non-Null Count  Dtype \n",
      "---  ------  --------------  ----- \n",
      " 0   id      48 non-null     int64 \n",
      " 1   text    48 non-null     object\n",
      " 2   labels  48 non-null     object\n",
      " 3   tokens  48 non-null     object\n",
      " 4   tags    48 non-null     object\n",
      "dtypes: int64(1), object(4)\n",
      "memory usage: 2.2+ KB\n"
     ]
    }
   ],
   "source": [
    "df_cut.info()"
   ]
  },
  {
   "cell_type": "code",
   "execution_count": 14,
   "id": "d8a9cc33",
   "metadata": {},
   "outputs": [
    {
     "name": "stdout",
     "output_type": "stream",
     "text": [
      "['B-Doxing', 'B-Harassment', 'B-Insult', 'B-Racism', 'B-Sexism', 'B-Trolling', 'I-Doxing', 'I-Harassment', 'I-Insult', 'I-Racism', 'I-Sexism', 'I-Trolling', 'O']\n"
     ]
    }
   ],
   "source": [
    "# Generate list of the IOB feature class labels from tags\n",
    "all_tags = list(itertools.chain.from_iterable(tags_list_iob))\n",
    "\n",
    "def unique(list1):\n",
    "    # insert the list to the set\n",
    "    list_set = set(list1)\n",
    "    # convert the set to the list\n",
    "    unique_list = (list(list_set))\n",
    "    unique_list.sort()\n",
    "    return unique_list\n",
    "\n",
    "feature_class_labels = unique(all_tags)\n",
    "print(feature_class_labels)"
   ]
  },
  {
   "cell_type": "code",
   "execution_count": 15,
   "id": "c1154e30",
   "metadata": {},
   "outputs": [],
   "source": [
    "# Generate the NER index tags for each token\n",
    "df_cut['ner_tags'] = df_cut['tags'].apply(lambda x: [feature_class_labels.index(tag) for tag in x])"
   ]
  },
  {
   "cell_type": "code",
   "execution_count": 16,
   "id": "5ba2abad",
   "metadata": {},
   "outputs": [
    {
     "data": {
      "text/html": [
       "<div>\n",
       "<style scoped>\n",
       "    .dataframe tbody tr th:only-of-type {\n",
       "        vertical-align: middle;\n",
       "    }\n",
       "\n",
       "    .dataframe tbody tr th {\n",
       "        vertical-align: top;\n",
       "    }\n",
       "\n",
       "    .dataframe thead th {\n",
       "        text-align: right;\n",
       "    }\n",
       "</style>\n",
       "<table border=\"1\" class=\"dataframe\">\n",
       "  <thead>\n",
       "    <tr style=\"text-align: right;\">\n",
       "      <th></th>\n",
       "      <th>id</th>\n",
       "      <th>text</th>\n",
       "      <th>labels</th>\n",
       "      <th>tokens</th>\n",
       "      <th>tags</th>\n",
       "      <th>ner_tags</th>\n",
       "      <th>split_tokens</th>\n",
       "    </tr>\n",
       "  </thead>\n",
       "  <tbody>\n",
       "    <tr>\n",
       "      <th>0</th>\n",
       "      <td>4</td>\n",
       "      <td>\"Sudeep, did she invite him though? No right? ...</td>\n",
       "      <td>[[155, 161, Insult]]</td>\n",
       "      <td>(\", Sudeep, ,, did, she, invite, him, though, ...</td>\n",
       "      <td>[O, O, O, O, O, O, O, O, O, O, O, O, O, O, O, ...</td>\n",
       "      <td>[12, 12, 12, 12, 12, 12, 12, 12, 12, 12, 12, 1...</td>\n",
       "      <td>[\", Sudeep, ,, did, she, invite, him, though, ...</td>\n",
       "    </tr>\n",
       "    <tr>\n",
       "      <th>2</th>\n",
       "      <td>6</td>\n",
       "      <td>\"Boy, your comment about Journalists wanting t...</td>\n",
       "      <td>[[206, 219, Harassment]]</td>\n",
       "      <td>(\", Boy, ,, your, comment, about, Journalists,...</td>\n",
       "      <td>[O, O, O, O, O, O, O, O, O, O, O, O, O, O, O, ...</td>\n",
       "      <td>[12, 12, 12, 12, 12, 12, 12, 12, 12, 12, 12, 1...</td>\n",
       "      <td>[\", Boy, ,, your, comment, about, Journalists,...</td>\n",
       "    </tr>\n",
       "    <tr>\n",
       "      <th>3</th>\n",
       "      <td>7</td>\n",
       "      <td>@ShashiTharoor @INCIndia Hindus were and are g...</td>\n",
       "      <td>[[63, 82, Harassment], [215, 221, Insult]]</td>\n",
       "      <td>(@ShashiTharoor, @INCIndia, Hindus, were, and,...</td>\n",
       "      <td>[O, O, O, O, O, O, O, O, O, B-Harassment, I-Ha...</td>\n",
       "      <td>[12, 12, 12, 12, 12, 12, 12, 12, 12, 1, 7, 12,...</td>\n",
       "      <td>[@ShashiTharoor, @INCIndia, Hindus, were, and,...</td>\n",
       "    </tr>\n",
       "    <tr>\n",
       "      <th>4</th>\n",
       "      <td>8</td>\n",
       "      <td>\"White supremicists? How many do you know? The...</td>\n",
       "      <td>[[55, 61, Insult]]</td>\n",
       "      <td>(\", White, supremicists, ?, How, many, do, you...</td>\n",
       "      <td>[O, O, O, O, O, O, O, O, O, O, O, O, O, B-Insu...</td>\n",
       "      <td>[12, 12, 12, 12, 12, 12, 12, 12, 12, 12, 12, 1...</td>\n",
       "      <td>[\", White, supremicists, ?, How, many, do, you...</td>\n",
       "    </tr>\n",
       "    <tr>\n",
       "      <th>5</th>\n",
       "      <td>9</td>\n",
       "      <td>Urban naxal and a jihadi TT gang put together....</td>\n",
       "      <td>[[196, 217, Harassment], [149, 162, Harassment]]</td>\n",
       "      <td>(Urban, naxal, and, a, jihadi, TT, gang, put, ...</td>\n",
       "      <td>[O, O, O, O, O, O, O, O, O, O, O, O, O, O, O, ...</td>\n",
       "      <td>[12, 12, 12, 12, 12, 12, 12, 12, 12, 12, 12, 1...</td>\n",
       "      <td>[Urban, naxal, and, a, jihadi, TT, gang, put, ...</td>\n",
       "    </tr>\n",
       "  </tbody>\n",
       "</table>\n",
       "</div>"
      ],
      "text/plain": [
       "   id                                               text  \\\n",
       "0   4  \"Sudeep, did she invite him though? No right? ...   \n",
       "2   6  \"Boy, your comment about Journalists wanting t...   \n",
       "3   7  @ShashiTharoor @INCIndia Hindus were and are g...   \n",
       "4   8  \"White supremicists? How many do you know? The...   \n",
       "5   9  Urban naxal and a jihadi TT gang put together....   \n",
       "\n",
       "                                             labels  \\\n",
       "0                              [[155, 161, Insult]]   \n",
       "2                          [[206, 219, Harassment]]   \n",
       "3        [[63, 82, Harassment], [215, 221, Insult]]   \n",
       "4                                [[55, 61, Insult]]   \n",
       "5  [[196, 217, Harassment], [149, 162, Harassment]]   \n",
       "\n",
       "                                              tokens  \\\n",
       "0  (\", Sudeep, ,, did, she, invite, him, though, ...   \n",
       "2  (\", Boy, ,, your, comment, about, Journalists,...   \n",
       "3  (@ShashiTharoor, @INCIndia, Hindus, were, and,...   \n",
       "4  (\", White, supremicists, ?, How, many, do, you...   \n",
       "5  (Urban, naxal, and, a, jihadi, TT, gang, put, ...   \n",
       "\n",
       "                                                tags  \\\n",
       "0  [O, O, O, O, O, O, O, O, O, O, O, O, O, O, O, ...   \n",
       "2  [O, O, O, O, O, O, O, O, O, O, O, O, O, O, O, ...   \n",
       "3  [O, O, O, O, O, O, O, O, O, B-Harassment, I-Ha...   \n",
       "4  [O, O, O, O, O, O, O, O, O, O, O, O, O, B-Insu...   \n",
       "5  [O, O, O, O, O, O, O, O, O, O, O, O, O, O, O, ...   \n",
       "\n",
       "                                            ner_tags  \\\n",
       "0  [12, 12, 12, 12, 12, 12, 12, 12, 12, 12, 12, 1...   \n",
       "2  [12, 12, 12, 12, 12, 12, 12, 12, 12, 12, 12, 1...   \n",
       "3  [12, 12, 12, 12, 12, 12, 12, 12, 12, 1, 7, 12,...   \n",
       "4  [12, 12, 12, 12, 12, 12, 12, 12, 12, 12, 12, 1...   \n",
       "5  [12, 12, 12, 12, 12, 12, 12, 12, 12, 12, 12, 1...   \n",
       "\n",
       "                                        split_tokens  \n",
       "0  [\", Sudeep, ,, did, she, invite, him, though, ...  \n",
       "2  [\", Boy, ,, your, comment, about, Journalists,...  \n",
       "3  [@ShashiTharoor, @INCIndia, Hindus, were, and,...  \n",
       "4  [\", White, supremicists, ?, How, many, do, you...  \n",
       "5  [Urban, naxal, and, a, jihadi, TT, gang, put, ...  "
      ]
     },
     "execution_count": 16,
     "metadata": {},
     "output_type": "execute_result"
    }
   ],
   "source": [
    "# Split tokens into a list ready for CSV\n",
    "df_cut['split_tokens'] = df_cut['tokens'].apply(lambda x: [tok.text for tok in x])\n",
    "\n",
    "# Check dataframe head\n",
    "df_cut.head()"
   ]
  },
  {
   "cell_type": "code",
   "execution_count": 18,
   "id": "ac440723",
   "metadata": {},
   "outputs": [],
   "source": [
    "# Export the only columns we need to a json file :\n",
    "export_columns = ['id', 'ner_tags', 'split_tokens']\n",
    "export_df = df_cut[export_columns]\n",
    "export_df.to_json(DATA_FILE, orient=\"table\", index=False)"
   ]
  },
  {
   "cell_type": "code",
   "execution_count": 19,
   "id": "6aefe08a",
   "metadata": {},
   "outputs": [],
   "source": [
    "# Export Feature Class Labels \n",
    "with open(FEATURE_CLASS_LABELS, 'w') as f:\n",
    "    json.dump(feature_class_labels, f, indent=2) "
   ]
  },
  {
   "cell_type": "code",
   "execution_count": 20,
   "id": "0c502cb8",
   "metadata": {},
   "outputs": [],
   "source": []
  }
 ],
 "metadata": {
  "kernelspec": {
   "display_name": "Python 3 (ipykernel)",
   "language": "python",
   "name": "python3"
  },
  "language_info": {
   "codemirror_mode": {
    "name": "ipython",
    "version": 3
   },
   "file_extension": ".py",
   "mimetype": "text/x-python",
   "name": "python",
   "nbconvert_exporter": "python",
   "pygments_lexer": "ipython3",
   "version": "3.10.7"
  }
 },
 "nbformat": 4,
 "nbformat_minor": 5
}
